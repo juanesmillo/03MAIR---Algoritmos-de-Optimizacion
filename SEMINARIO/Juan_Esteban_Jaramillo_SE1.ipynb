{
  "nbformat": 4,
  "nbformat_minor": 0,
  "metadata": {
    "colab": {
      "name": "Juan Esteban Jaramillo SE1.ipynb",
      "version": "0.3.2",
      "provenance": [],
      "collapsed_sections": [],
      "include_colab_link": true
    },
    "kernelspec": {
      "name": "python3",
      "display_name": "Python 3"
    }
  },
  "cells": [
    {
      "cell_type": "markdown",
      "metadata": {
        "id": "view-in-github",
        "colab_type": "text"
      },
      "source": [
        "<a href=\"https://colab.research.google.com/github/juanesmillo/03MAIR---Algoritmos-de-Optimizacion/blob/master/SEMINARIO/Juan_Esteban_Jaramillo_SE1.ipynb\" target=\"_parent\"><img src=\"https://colab.research.google.com/assets/colab-badge.svg\" alt=\"Open In Colab\"/></a>"
      ]
    },
    {
      "metadata": {
        "id": "1ZqkFi9WDBGr",
        "colab_type": "text"
      },
      "cell_type": "markdown",
      "source": [
        "#Algoritmos de optimización - Seminario<br>\n",
        "Nombre y Apellidos:  Juan Esteban Jaramillo García <br>\n",
        "URL: [https://github.com/juanesmillo/03MAIR---Algoritmos-de-Optimizacion/tree/master/SEMINARIO](https://github.com/juanesmillo/03MAIR---Algoritmos-de-Optimizacion/tree/master/SEMINARIO)<br>\n",
        "Problema: 2. Organizar los horarios de partidos de La Liga <br>\n"
      ]
    },
    {
      "metadata": {
        "id": "ywRvMqMoGo4j",
        "colab_type": "text"
      },
      "cell_type": "markdown",
      "source": [
        "Desde la La Liga de fútbol profesional se pretende organizar los horarios de los partidos\n",
        "de liga de de cada jornada. Se conocen algunos datos que nos deben llevar a diseñar un\n",
        "algoritmo que realice la asignación de los partidos a los horarios que maximice la\n",
        "audiencia. \n",
        "\n",
        "Los horarios disponibles se conocen a priori y son los siguientes:<br>\n",
        "\n",
        "<table> \n",
        "  <tr>\n",
        "    <td>Viernes</td> \n",
        "    <td>Sabado</td>\n",
        "    <td>Domingo</td>\n",
        "    <td>Lunes</td>\n",
        "  </tr>\n",
        "  <tr>\n",
        "    <td></td> \n",
        "    <td>12</td>\n",
        "    <td>12</td>\n",
        "    <td></td>\n",
        "  </tr>\n",
        "  <tr>\n",
        "    <td></td> \n",
        "    <td>16</td>\n",
        "    <td>16</td>\n",
        "    <td></td>\n",
        "  </tr>\n",
        "   <tr>\n",
        "    <td></td> \n",
        "    <td>18</td>\n",
        "    <td>18</td>\n",
        "    <td></td>\n",
        "  </tr>\n",
        "   <tr>\n",
        "    <td>20</td> \n",
        "    <td>20</td>\n",
        "    <td>20</td>\n",
        "    <td>20</td>\n",
        "  </tr>\n",
        " </table>\n",
        " \n",
        " En primer lugar se clasifican los equipos en tres categorías según el numero de\n",
        "seguidores que tienen relación directa con la audiencia. Hay 4 equipos en la\n",
        "categoría A, 10 equipos de categoría B y 6 equipos de categoría C.<br>\n",
        "Se conoce estadísticamente la audiencia que genera cada partido según los equipos\n",
        "que se enfrentan y en horario de sábado a las 20h (el mejor en todos los casos)\n",
        " \n",
        " <table>\n",
        "   <tr>\n",
        "     <td></td>\n",
        "    <td>Categoria A</td> \n",
        "    <td>Categoria B</td>\n",
        "    <td>Categoria C</td>\n",
        "  </tr>\n",
        "     <tr>\n",
        "     <td>Categoria A</td>\n",
        "    <td>2 Millones</td> \n",
        "    <td>1.3 Millones</td>\n",
        "    <td>1 Millones</td>\n",
        "  </tr>\n",
        "  <tr>\n",
        "     <td>Categoria B</td>\n",
        "    <td></td> \n",
        "    <td>0.9 Millones</td>\n",
        "    <td>0.75 Millones</td>\n",
        "  </tr>\n",
        "  <tr>\n",
        "     <td>Categoria C</td>\n",
        "    <td></td> \n",
        "    <td></td>\n",
        "    <td>0.47 Millones</td>\n",
        "  </tr>\n",
        " </table>\n",
        " \n",
        "Si el horario del partido no se realiza a las 20 horas del sábado se sabe que se reduce\n",
        "según los coeficientes de la siguiente tabla:\n",
        "\n",
        "<table>\n",
        "   <tr>\n",
        "     <td></td>\n",
        "    <td>Viernes</td> \n",
        "    <td>Sabado</td>\n",
        "    <td>Domingo</td>\n",
        "    <td>Lunes</td>\n",
        "  </tr>\n",
        "     <tr>\n",
        "     <td>12h</td>\n",
        "     <td></td>\n",
        "    <td>0.55</td> \n",
        "    <td>0.45</td>\n",
        "    <td></td>\n",
        "  </tr>\n",
        "  <tr>\n",
        "     <td>16h</td>\n",
        "    <td></td> \n",
        "    <td>0.7</td>\n",
        "    <td>0.75</td>\n",
        "    <td></td>\n",
        "  </tr>\n",
        "  <tr>\n",
        "     <td>18h</td>\n",
        "    <td></td> \n",
        "    <td>0.8</td>\n",
        "    <td>0.85</td>\n",
        "    <td></td>\n",
        "  </tr>\n",
        "    <tr>\n",
        "     <td>20h</td>\n",
        "     <td>0.4</td>\n",
        "    <td>1</td> \n",
        "    <td>1</td>\n",
        "    <td>0.4</td>\n",
        "  </tr>\n",
        " </table>\n",
        " \n",
        " Debemos asignar obligatoriamente siempre un partido el viernes y un partido el lunes<br>\n",
        " \n",
        "  Es posible la coincidencia de horarios pero en este caso la audiencia se verá afectada(no\n",
        "se acumula) y se repartirá según los siguientes criterios:\n",
        "- se tomará la mejor audiencia y se repartirá según la siguiente ponderación:<br>\n",
        " A = 4 puntos<br>\n",
        " B = 2 puntos<br>\n",
        " C = 1 punto<br>\n",
        "Si hay una coincidencia de horario para dos partidos por ejemplo :<br>\n",
        "AB y BC<br>\n",
        "Total puntos: 4(A)+2(B) + 2(B)+1(C) =9<br>\n",
        "La audiencia máxima para ese horario será la de AB, 1.3 Millones<br>\n",
        " La audiencia (1.3 Millones) se reparte en :<br>\n",
        "Para AB: 6/9 * 1.3Millones =0.87 Mllones<br>\n",
        "Para BC:3/9 * 1.3 MIllones = 0.43 MIllones<br>\n",
        "\n",
        "Con estos datos debemos construir un algoritmo que realice la asignación que maximice\n",
        "la audiencia para cualquier jornada de la liga.\n"
      ]
    },
    {
      "metadata": {
        "id": "UcKA40e8hS1u",
        "colab_type": "text"
      },
      "cell_type": "markdown",
      "source": [
        "(*)¿Cuantas posibilidades hay sin tener en cuenta las restricciones?<br>\n",
        "\n",
        "Respuesta: Las posibilidades que tienen este problema sin restricciones es de 10^10 ya que los partidos pueden ir en todos los horarios disponibles que enontramos disponibles"
      ]
    },
    {
      "metadata": {
        "id": "sR_Hjfp2hZof",
        "colab_type": "code",
        "colab": {
          "base_uri": "https://localhost:8080/",
          "height": 34
        },
        "outputId": "1a678f5d-5278-4de1-f958-860aefd5fc38"
      },
      "cell_type": "code",
      "source": [
        "posibilidades=10\n",
        "for i in range(posibilidades):\n",
        "  posibilidades = posibilidades*10\n",
        "print('Las posibles soluciones sin restricciones son: ', posibilidades)"
      ],
      "execution_count": 3,
      "outputs": [
        {
          "output_type": "stream",
          "text": [
            "Las posibles soluciones sin restricciones son:  100000000000\n"
          ],
          "name": "stdout"
        }
      ]
    },
    {
      "metadata": {
        "id": "F4wswa4etlU3",
        "colab_type": "text"
      },
      "cell_type": "markdown",
      "source": [
        "¿Cuantas posibilidades hay teniendo en cuenta todas las restricciones.<br>\n",
        "\n",
        "Respuesta: Las posibilidades que tienen este problema con restricciones es de 10! es decir 10! combinaciones posibles de partidos"
      ]
    },
    {
      "metadata": {
        "id": "UcIVw7v8thAu",
        "colab_type": "code",
        "colab": {
          "base_uri": "https://localhost:8080/",
          "height": 34
        },
        "outputId": "8bc843d7-5dcc-4d97-d449-31adf27ca540"
      },
      "cell_type": "code",
      "source": [
        "posibilidades = 10*9*8*7*6*5*4*3*2*1\n",
        "print('Las posibles soluciones con restricciones son: ', posibilidades)"
      ],
      "execution_count": 4,
      "outputs": [
        {
          "output_type": "stream",
          "text": [
            "Las posibles soluciones con restricciones son:  3628800\n"
          ],
          "name": "stdout"
        }
      ]
    },
    {
      "metadata": {
        "id": "zPIyRU7e1T_f",
        "colab_type": "text"
      },
      "cell_type": "markdown",
      "source": [
        "\n",
        "(*) ¿Cual es la estructura de datos que mejor se adapta al problema? Argumentalo.(Es posible que hayas elegido una al principio y veas la necesidad de cambiar, arguentalo)<br>\n",
        "\n",
        "El modelo que planteo es un algoritmo voraz ya que necesitamos elegir una única solución y descartar luego de que hayamos emparejado los partidos, buscamos que la audiencia máxima sea la mejor posible y un partido sólo puede tener un único horario por fecha. <br>\n",
        "\n",
        "La mejor estructura que hemos notado es elegir "
      ]
    },
    {
      "metadata": {
        "id": "oGCOs2Yc7Ai_",
        "colab_type": "text"
      },
      "cell_type": "markdown",
      "source": [
        "(*)¿Cual es la función objetivo?<br>\n",
        "\n",
        "La función objetivo o lo que estamos buscando exactamente es que la sumatoria de todos los partidos distribuídos en los horarios sea la mayor posible para una fecha dada,.<br>\n",
        "\n",
        "como restricciones tenemos que:<br>\n",
        "* Los días Viiernes y Lunes debe ir un único partido y debe haberlo en la fecha (2x)\n",
        "* Para los días Sábado y Domingo van los 8 partidos restantes (8y)\n",
        "* En Sábado y Domingo pueden haber 2 partidos en el mismo horario pero la audiencia se divide en los puntos de audiencia A=4, B=2 y C=1 sobre el total (m/n*T)<br>\n",
        "\n",
        "\n",
        "(*)¿Es un problema de maximización o minimización?<br>\n",
        "\n",
        "Definitivamente es un problema de maximización tal como lo indica el encabezado del problema, debemos organizar la fecha de la Liga de tal manera que tenga la mayor audiencia posible"
      ]
    },
    {
      "metadata": {
        "id": "rwIiAHQkfjIS",
        "colab_type": "text"
      },
      "cell_type": "markdown",
      "source": [
        "Diseña un algoritmo para resolver el problema por fuerza bruta"
      ]
    },
    {
      "metadata": {
        "id": "Vl6dsTxCfXsb",
        "colab_type": "code",
        "colab": {}
      },
      "cell_type": "code",
      "source": [
        "# Este es el algoritmo por fuerza bruta donde se reparte la audiencia de la mejor manera posible sembrando los partidos\n",
        "def repartir_fecha(solucion):\n",
        "   \n",
        "  mejor_solucion = []\n",
        "  mejor_audiencia = 0\n",
        "  televidentes =0\n",
        "  \n",
        "  for i in range(10):\n",
        "      \n",
        "    \n",
        "    televidentes = televidentes + n_audiencia(solucion[i][1],horarios[i])\n",
        "    \n",
        "    if televidentes > mejor_audiencia:\n",
        "      mejor_solucion = solucion\n",
        "      mejor_audiencia = televidentes\n",
        "     \n",
        "  return mejor_solucion, mejor_audiencia"
      ],
      "execution_count": 0,
      "outputs": []
    },
    {
      "metadata": {
        "id": "CwFqvNj-fvgf",
        "colab_type": "text"
      },
      "cell_type": "markdown",
      "source": [
        "Calcula la complejidad del algoritmo por fuerza bruta<br>\n",
        "\n",
        "La complejidad del algoritmo de fuerza bruta es de 10*n^2<br>\n",
        "* tiene 10 operaciones y/o asignaciones y dos ciclos uno dentro de la función y otro que se llama dentro de la repartición de la fecha"
      ]
    },
    {
      "metadata": {
        "id": "i3sHY96UDhkJ",
        "colab_type": "text"
      },
      "cell_type": "markdown",
      "source": [
        "\n",
        "(*)Diseña un algoritmo que mejore la complejidad del algortimo por fuerza bruta. Argumenta porque crees que mejora el algoritmo por fuerza bruta<br>\n",
        "\n",
        "Este algoritmo mejora al de la fuerza bruta ya que aprovechándose de la fuerza bruta, se realiza otro sorteo interno para que según un número de iteraciones se encuentre una mejor que la asignada por el algoritmo anterior.<br>\n",
        "\n",
        "Aún hay oportunidades de mejoras con un divide o vencerás o algoritmos genéticos pero así nos da una mejora al de fuerza bruta"
      ]
    },
    {
      "metadata": {
        "id": "K2B0lQLaDpHa",
        "colab_type": "code",
        "colab": {}
      },
      "cell_type": "code",
      "source": [
        "# Este algoritmo es la mejora de la fuerza bruta\n",
        "def mejor_audiencia(audiencia,N):\n",
        "  sol=[]\n",
        "  a=0\n",
        "  solucion = crear_solucion(audiencia)\n",
        "  for i in range(N):\n",
        "    s=repartir_fecha(solucion)\n",
        "    if s[1] > a:\n",
        "      sol=s\n",
        "      a=s[1]\n",
        "  return sol\n"
      ],
      "execution_count": 0,
      "outputs": []
    },
    {
      "metadata": {
        "id": "uJF-crIGDqGt",
        "colab_type": "text"
      },
      "cell_type": "markdown",
      "source": [
        "(*)Calcula la complejidad del algoritmo<br>\n",
        "\n",
        "La complejidad de este algoritmo, se le suma la de fuerza bruta y sube a una complejidad cúbica debido a que hemos aprovechado el algoritmo de fuerza bruta para usar recursividad pero aún así nos entrega una mejor solución que esta cuadrática.\n",
        "\n",
        "8*n^3<br>\n",
        "\n",
        "Tiene 8 operaciones y/o asignaciones un bucle propio y 2 bucles de la función a la que hace recursividad\n"
      ]
    },
    {
      "metadata": {
        "id": "oWhKVRl-DtzZ",
        "colab_type": "text"
      },
      "cell_type": "markdown",
      "source": [
        "Según el problema (y tenga sentido), diseña un juego de datos de entrada aleatorios"
      ]
    },
    {
      "metadata": {
        "id": "r463B-VGDxgP",
        "colab_type": "code",
        "colab": {
          "base_uri": "https://localhost:8080/",
          "height": 34
        },
        "outputId": "a460fd32-b345-432c-f17b-fd24c1add822"
      },
      "cell_type": "code",
      "source": [
        "#Definimos los 20 equipos de la liga\n",
        "x=range(1,21)\n",
        "equipos=list(x)\n",
        "equipos"
      ],
      "execution_count": 85,
      "outputs": [
        {
          "output_type": "execute_result",
          "data": {
            "text/plain": [
              "[1, 2, 3, 4, 5, 6, 7, 8, 9, 10, 11, 12, 13, 14, 15, 16, 17, 18, 19, 20]"
            ]
          },
          "metadata": {
            "tags": []
          },
          "execution_count": 85
        }
      ]
    },
    {
      "metadata": {
        "id": "2qclhzy8D1lh",
        "colab_type": "code",
        "colab": {}
      },
      "cell_type": "code",
      "source": [
        "# Sorteamos los partidos entre si para una fecha específica\n",
        "import random\n",
        "def equipos_sin_repetir(lista):\n",
        "    for _ in range(0,len(lista)):\n",
        "        result = random.choice(lista)\n",
        "        yield result\n",
        "        lista.remove(result)\n",
        "fecha=[i for i in equipos_sin_repetir(equipos)]\n",
        "partidos=list(zip(*[iter(fecha)]*2))"
      ],
      "execution_count": 0,
      "outputs": []
    },
    {
      "metadata": {
        "id": "cyiKZmNdD_jx",
        "colab_type": "code",
        "colab": {
          "base_uri": "https://localhost:8080/",
          "height": 187
        },
        "outputId": "0a501783-e880-49d7-ecc9-65e4bf1c78a6"
      },
      "cell_type": "code",
      "source": [
        "#acá revisamos cómo quedó conformada la fecha de la liga\n",
        "partidos"
      ],
      "execution_count": 87,
      "outputs": [
        {
          "output_type": "execute_result",
          "data": {
            "text/plain": [
              "[(16, 11),\n",
              " (14, 17),\n",
              " (8, 13),\n",
              " (6, 1),\n",
              " (2, 15),\n",
              " (7, 4),\n",
              " (9, 10),\n",
              " (20, 19),\n",
              " (12, 3),\n",
              " (18, 5)]"
            ]
          },
          "metadata": {
            "tags": []
          },
          "execution_count": 87
        }
      ]
    },
    {
      "metadata": {
        "id": "X73L8NLyEFYo",
        "colab_type": "code",
        "colab": {}
      },
      "cell_type": "code",
      "source": [
        "#Definimos la clase de los equipos\n",
        "def saber_clase(N):\n",
        "    if N < 5:\n",
        "        c='A'\n",
        "    elif N < 15:\n",
        "        c='B'\n",
        "    else:\n",
        "        c='C'\n",
        "    return c"
      ],
      "execution_count": 0,
      "outputs": []
    },
    {
      "metadata": {
        "id": "F4V5aJk0EMD_",
        "colab_type": "code",
        "colab": {
          "base_uri": "https://localhost:8080/",
          "height": 187
        },
        "outputId": "3fe1fe62-9068-4ad0-8ea0-4c0ba229575b"
      },
      "cell_type": "code",
      "source": [
        "#Acá sabemos el coeficiente de audiencia que genera cada enfrentamiento de los equipos\n",
        "audiencia =[]\n",
        "for i in range(len(partidos)):\n",
        "    emparejamiento=saber_clase(partidos[i][0])+saber_clase(partidos[i][1])\n",
        "    if emparejamiento == 'AA':\n",
        "        audiencia.append((partidos[i],2))\n",
        "    elif emparejamiento == 'AB' or emparejamiento == 'BA':\n",
        "        audiencia.append((partidos[i],1.3))\n",
        "    elif emparejamiento == 'AC' or emparejamiento == 'CA':\n",
        "        audiencia.append((partidos[i],1))\n",
        "    elif emparejamiento == 'BC' or emparejamiento == 'CB':\n",
        "        audiencia.append((partidos[i],0.75))\n",
        "    elif emparejamiento == 'BB':\n",
        "        audiencia.append((partidos[i],0.9))\n",
        "    else: \n",
        "        audiencia.append((partidos[i],0.47))\n",
        "audiencia"
      ],
      "execution_count": 90,
      "outputs": [
        {
          "output_type": "execute_result",
          "data": {
            "text/plain": [
              "[((16, 11), 0.75),\n",
              " ((14, 17), 0.75),\n",
              " ((8, 13), 0.9),\n",
              " ((6, 1), 1.3),\n",
              " ((2, 15), 1),\n",
              " ((7, 4), 1.3),\n",
              " ((9, 10), 0.9),\n",
              " ((20, 19), 0.47),\n",
              " ((12, 3), 1.3),\n",
              " ((18, 5), 0.75)]"
            ]
          },
          "metadata": {
            "tags": []
          },
          "execution_count": 90
        }
      ]
    },
    {
      "metadata": {
        "id": "-30fZruFETEB",
        "colab_type": "code",
        "colab": {
          "base_uri": "https://localhost:8080/",
          "height": 34
        },
        "outputId": "44ab27b3-fc2d-4439-dc8f-265f538bb697"
      },
      "cell_type": "code",
      "source": [
        "#Los horarios establecidos se han ordenado de mayor a menor audiencia\n",
        "horarios = [1,1,0.85,0.8,0.75,0.7,0.55,0.45,0.4,0.4]\n",
        "\n",
        "horarios"
      ],
      "execution_count": 91,
      "outputs": [
        {
          "output_type": "execute_result",
          "data": {
            "text/plain": [
              "[1, 1, 0.85, 0.8, 0.75, 0.7, 0.55, 0.45, 0.4, 0.4]"
            ]
          },
          "metadata": {
            "tags": []
          },
          "execution_count": 91
        }
      ]
    },
    {
      "metadata": {
        "id": "UjWKOVNeEZHe",
        "colab_type": "code",
        "colab": {
          "base_uri": "https://localhost:8080/",
          "height": 187
        },
        "outputId": "a35b3157-577a-4991-a30d-5f18eaa2150e"
      },
      "cell_type": "code",
      "source": [
        "#Función que determina cuanta audiencia genera cada enfrentamiento\n",
        "def n_audiencia(a,b):\n",
        "    c = a*b\n",
        "    return c\n",
        "audiencia"
      ],
      "execution_count": 92,
      "outputs": [
        {
          "output_type": "execute_result",
          "data": {
            "text/plain": [
              "[((16, 11), 0.75),\n",
              " ((14, 17), 0.75),\n",
              " ((8, 13), 0.9),\n",
              " ((6, 1), 1.3),\n",
              " ((2, 15), 1),\n",
              " ((7, 4), 1.3),\n",
              " ((9, 10), 0.9),\n",
              " ((20, 19), 0.47),\n",
              " ((12, 3), 1.3),\n",
              " ((18, 5), 0.75)]"
            ]
          },
          "metadata": {
            "tags": []
          },
          "execution_count": 92
        }
      ]
    },
    {
      "metadata": {
        "id": "DrmOUu4MOV4f",
        "colab_type": "code",
        "colab": {
          "base_uri": "https://localhost:8080/",
          "height": 187
        },
        "outputId": "cd62e3f8-8607-445c-926a-39744023f4ff"
      },
      "cell_type": "code",
      "source": [
        "# Esta función determina el horario aleatoriamente\n",
        "def crear_solucion(Nodos):\n",
        "  solucion = []\n",
        "  for i in range(len(Nodos)):\n",
        "    solucion = solucion + [random.choice(list(set(Nodos) - set({0}) - set(solucion)))]\n",
        "  return solucion \n",
        "crear_solucion(audiencia)"
      ],
      "execution_count": 95,
      "outputs": [
        {
          "output_type": "execute_result",
          "data": {
            "text/plain": [
              "[((12, 3), 1.3),\n",
              " ((9, 10), 0.9),\n",
              " ((2, 15), 1),\n",
              " ((14, 17), 0.75),\n",
              " ((6, 1), 1.3),\n",
              " ((16, 11), 0.75),\n",
              " ((18, 5), 0.75),\n",
              " ((8, 13), 0.9),\n",
              " ((20, 19), 0.47),\n",
              " ((7, 4), 1.3)]"
            ]
          },
          "metadata": {
            "tags": []
          },
          "execution_count": 95
        }
      ]
    },
    {
      "metadata": {
        "id": "RT2y1AzYEhLb",
        "colab_type": "code",
        "colab": {
          "base_uri": "https://localhost:8080/",
          "height": 204
        },
        "outputId": "16337a2d-fef3-4ba3-bccf-0fd14b17626f"
      },
      "cell_type": "code",
      "source": [
        "def repartir_fecha(solucion):\n",
        "   \n",
        "  mejor_solucion = []\n",
        "  mejor_audiencia = 0\n",
        "  televidentes =0\n",
        "  \n",
        "  for i in range(10):\n",
        "      \n",
        "    \n",
        "    televidentes = televidentes + n_audiencia(solucion[i][1],horarios[i])\n",
        "    \n",
        "    if televidentes > mejor_audiencia:\n",
        "      mejor_solucion = solucion\n",
        "      mejor_audiencia = televidentes\n",
        "     \n",
        "  return mejor_solucion, mejor_audiencia\n",
        "sol=repartir_fecha(audiencia)\n",
        "sol"
      ],
      "execution_count": 188,
      "outputs": [
        {
          "output_type": "execute_result",
          "data": {
            "text/plain": [
              "([((16, 11), 0.75),\n",
              "  ((14, 17), 0.75),\n",
              "  ((8, 13), 0.9),\n",
              "  ((6, 1), 1.3),\n",
              "  ((2, 15), 1),\n",
              "  ((7, 4), 1.3),\n",
              "  ((9, 10), 0.9),\n",
              "  ((20, 19), 0.47),\n",
              "  ((12, 3), 1.3),\n",
              "  ((18, 5), 0.75)],\n",
              " 6.491499999999999)"
            ]
          },
          "metadata": {
            "tags": []
          },
          "execution_count": 188
        }
      ]
    },
    {
      "metadata": {
        "id": "C6FUx6tPQKD0",
        "colab_type": "code",
        "colab": {
          "base_uri": "https://localhost:8080/",
          "height": 204
        },
        "outputId": "c361244b-ade9-4d98-a643-c689f138c0c0"
      },
      "cell_type": "code",
      "source": [
        "def mejor_audiencia(audiencia,N):\n",
        "  sol=[]\n",
        "  a=0\n",
        "  solucion = crear_solucion(audiencia)\n",
        "  for i in range(N):\n",
        "    s=repartir_fecha(solucion)\n",
        "    if s[1] > a:\n",
        "      sol=s\n",
        "      a=s[1]\n",
        "  return sol\n",
        "mejor_audiencia(audiencia,10000)"
      ],
      "execution_count": 193,
      "outputs": [
        {
          "output_type": "execute_result",
          "data": {
            "text/plain": [
              "([((2, 15), 1),\n",
              "  ((12, 3), 1.3),\n",
              "  ((8, 13), 0.9),\n",
              "  ((6, 1), 1.3),\n",
              "  ((9, 10), 0.9),\n",
              "  ((16, 11), 0.75),\n",
              "  ((14, 17), 0.75),\n",
              "  ((20, 19), 0.47),\n",
              "  ((7, 4), 1.3),\n",
              "  ((18, 5), 0.75)],\n",
              " 6.749)"
            ]
          },
          "metadata": {
            "tags": []
          },
          "execution_count": 193
        }
      ]
    }
  ]
}