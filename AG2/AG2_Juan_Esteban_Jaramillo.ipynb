{
  "nbformat": 4,
  "nbformat_minor": 0,
  "metadata": {
    "colab": {
      "name": "AG2 - Juan Esteban Jaramillo.ipynb",
      "version": "0.3.2",
      "provenance": [],
      "include_colab_link": true
    },
    "kernelspec": {
      "name": "python3",
      "display_name": "Python 3"
    }
  },
  "cells": [
    {
      "cell_type": "markdown",
      "metadata": {
        "id": "view-in-github",
        "colab_type": "text"
      },
      "source": [
        "<a href=\"https://colab.research.google.com/github/juanesmillo/03MAIR---Algoritmos-de-Optimizacion/blob/master/AG2/AG2_Juan_Esteban_Jaramillo.ipynb\" target=\"_parent\"><img src=\"https://colab.research.google.com/assets/colab-badge.svg\" alt=\"Open In Colab\"/></a>"
      ]
    },
    {
      "metadata": {
        "id": "rp2mz8WV19Hg",
        "colab_type": "text"
      },
      "cell_type": "markdown",
      "source": [
        "AG - Actividad Guiada 2 <br>\n",
        "\n",
        "Juan Esteban Jaramillo García <br>\n",
        "\n",
        "URL: https://github.com/juanesmillo/03MAIR---Algoritmos-de-Optimizacion/tree/master/AG2\n"
      ]
    },
    {
      "metadata": {
        "id": "AZGPsge9-_vj",
        "colab_type": "code",
        "colab": {}
      },
      "cell_type": "code",
      "source": [
        "#Decorador para calcular_tiempo a la función para la cual queremos calcular el tiempo de ejecución(Isabel Vázquez)\n",
        "\n",
        "from time import time\n",
        "#Función para calcular el tiempo de ejecución\n",
        "def calcular_tiempo(f):\n",
        "   \n",
        "    def wrapper(*args, **kwargs ):       \n",
        "        inicio = time()       \n",
        "        resultado = f(*args, **kwargs)       \n",
        "        tiempo = time() - inicio\n",
        "        print(\"Tiempo de ejecución para algoritmo: \"+str(tiempo))\n",
        "        return resultado\n",
        "    \n",
        "    return wrapper\n",
        "from time import time"
      ],
      "execution_count": 0,
      "outputs": []
    },
    {
      "metadata": {
        "id": "2PzKbK_P7P35",
        "colab_type": "code",
        "colab": {}
      },
      "cell_type": "code",
      "source": [
        "import math\n",
        "import random"
      ],
      "execution_count": 0,
      "outputs": []
    },
    {
      "metadata": {
        "id": "wNZskWF078cJ",
        "colab_type": "code",
        "colab": {
          "base_uri": "https://localhost:8080/",
          "height": 54
        },
        "outputId": "d49ed50f-25ef-474d-de87-788e19a7d275"
      },
      "cell_type": "code",
      "source": [
        "N = 100\n",
        "LISTA_2D = [ (random.randrange(1,N*10),random.randrange(1,N*10) )  for _ in range(N)]\n",
        "print (LISTA_2D)"
      ],
      "execution_count": 39,
      "outputs": [
        {
          "output_type": "stream",
          "text": [
            "[(87, 394), (927, 605), (383, 469), (4, 565), (411, 559), (354, 498), (314, 84), (347, 669), (97, 248), (511, 542), (813, 597), (383, 37), (7, 68), (512, 892), (720, 122), (744, 915), (251, 97), (794, 756), (920, 497), (598, 90), (628, 949), (656, 230), (229, 473), (549, 644), (767, 329), (847, 73), (700, 831), (156, 622), (73, 462), (851, 101), (390, 669), (64, 917), (760, 534), (182, 641), (782, 701), (198, 636), (798, 552), (513, 147), (270, 628), (839, 930), (624, 712), (439, 17), (891, 93), (89, 195), (379, 779), (76, 963), (510, 576), (216, 703), (60, 577), (24, 87), (787, 167), (909, 158), (455, 409), (857, 777), (790, 455), (781, 334), (86, 501), (231, 201), (177, 59), (957, 729), (764, 737), (733, 189), (79, 533), (297, 834), (507, 829), (268, 860), (784, 144), (600, 480), (296, 814), (342, 841), (493, 53), (439, 984), (18, 25), (759, 655), (131, 957), (690, 9), (163, 453), (707, 569), (967, 551), (765, 917), (676, 73), (384, 502), (834, 356), (517, 792), (879, 870), (142, 505), (370, 559), (931, 58), (30, 163), (651, 502), (709, 857), (627, 84), (640, 804), (47, 35), (358, 118), (220, 348), (92, 933), (326, 83), (332, 49), (28, 943)]\n"
          ],
          "name": "stdout"
        }
      ]
    },
    {
      "metadata": {
        "id": "uAwWbZOv4-d2",
        "colab_type": "code",
        "colab": {
          "base_uri": "https://localhost:8080/",
          "height": 34
        },
        "outputId": "d6b7b000-d3b9-4f3f-8c06-7eaba7983764"
      },
      "cell_type": "code",
      "source": [
        "def distancia(A,B):\n",
        "  if type(A) is int or type(A) is float:\n",
        "    return abs(B-A)\n",
        "  else:\n",
        "    return math.sqrt(sum([(A[i]-B[i])**2 for i in range(len(A))]))\n",
        "\n",
        "distancia(2,5)"
      ],
      "execution_count": 8,
      "outputs": [
        {
          "output_type": "execute_result",
          "data": {
            "text/plain": [
              "3"
            ]
          },
          "metadata": {
            "tags": []
          },
          "execution_count": 8
        }
      ]
    },
    {
      "metadata": {
        "id": "_uWfhwSC7elu",
        "colab_type": "code",
        "colab": {
          "base_uri": "https://localhost:8080/",
          "height": 34
        },
        "outputId": "6e768b02-983b-4352-aa8d-f96163381f03"
      },
      "cell_type": "code",
      "source": [
        "distancia((1,3),(3,5))"
      ],
      "execution_count": 9,
      "outputs": [
        {
          "output_type": "execute_result",
          "data": {
            "text/plain": [
              "2.8284271247461903"
            ]
          },
          "metadata": {
            "tags": []
          },
          "execution_count": 9
        }
      ]
    },
    {
      "metadata": {
        "id": "syJXOQs78yoN",
        "colab_type": "code",
        "colab": {
          "base_uri": "https://localhost:8080/",
          "height": 34
        },
        "outputId": "2e23cb80-89b3-4bcd-8bd0-32ad3bdfac7e"
      },
      "cell_type": "code",
      "source": [
        "#Algoritmo de Fuerza Bruta\n",
        "\n",
        "def fuerza_bruta(L):\n",
        "  mejor_distancia = 10000000\n",
        "  \n",
        "  A,B = (),()\n",
        "  T = len(L)\n",
        "  for i in range(T):\n",
        "    for j in range(i+1, T):\n",
        "      D = distancia(L[i],L[j])\n",
        "      if D < mejor_distancia:\n",
        "        A,B = L[i],L[j]\n",
        "        mejor_distancia = D\n",
        "  return [A,B]\n",
        "\n",
        "fuerza_bruta(LISTA_2D)"
      ],
      "execution_count": 36,
      "outputs": [
        {
          "output_type": "execute_result",
          "data": {
            "text/plain": [
              "[(127, 473), (125, 465)]"
            ]
          },
          "metadata": {
            "tags": []
          },
          "execution_count": 36
        }
      ]
    },
    {
      "metadata": {
        "id": "wkctQ0ERBFqJ",
        "colab_type": "code",
        "colab": {
          "base_uri": "https://localhost:8080/",
          "height": 51
        },
        "outputId": "0370f0be-c1d9-4315-b1ce-fc262544576e"
      },
      "cell_type": "code",
      "source": [
        "# Divide y Venceras\n",
        "def dis_divide_y_venceras(L):\n",
        "  # Si hay pocos por fuerza bruta\n",
        "  T = len(L)\n",
        "  if T < 10:\n",
        "    return fuerza_bruta(L)\n",
        "  \n",
        "  # Dividir en listas grandes\n",
        "  pivote = sum(L[i][0] for i in range(T))/T\n",
        "  \n",
        "  \n",
        "  #Mejorar listas\n",
        "  LISTA_IZQ = sorted(L, key=lambda x: x[0])[:T//2]\n",
        "  LISTA_DER = sorted(L, key=lambda x: x[0])[T//2:]\n",
        "  \n",
        "  PUNTOS_LISTA_IZQ =  dis_divide_y_venceras(LISTA_IZQ)\n",
        "  PUNTOS_LISTA_DER =  dis_divide_y_venceras(LISTA_DER)\n",
        "  \n",
        "  return fuerza_bruta(PUNTOS_LISTA_IZQ + PUNTOS_LISTA_DER )\n",
        "    \n",
        "@calcular_tiempo\n",
        "def LANZA(L):\n",
        "  return dis_divide_y_venceras(L)\n",
        "  \n",
        "SOL = LANZA(LISTA_2D[:20])\n",
        "print(SOL)"
      ],
      "execution_count": 43,
      "outputs": [
        {
          "output_type": "stream",
          "text": [
            "Tiempo de ejecución para algoritmo: 0.0002028942108154297\n",
            "[(354, 498), (383, 469)]\n"
          ],
          "name": "stdout"
        }
      ]
    },
    {
      "metadata": {
        "id": "IJQopTFWJeU0",
        "colab_type": "code",
        "colab": {}
      },
      "cell_type": "code",
      "source": [
        "# Paseo por el rio\n",
        "TARIFAS = [\n",
        "[0,5,4,3,999,999,999],\n",
        "[999,0,999,2,3,999,11],\n",
        "[999,999, 0,1,999,4,10],\n",
        "[999,999,999, 0,5,6,9],\n",
        "[999,999, 999,999,0,999,4],\n",
        "[999,999, 999,999,999,0,3],\n",
        "[999,999,999,999,999,999,0]\n",
        "]"
      ],
      "execution_count": 0,
      "outputs": []
    },
    {
      "metadata": {
        "id": "hpCbbEdBJpx-",
        "colab_type": "code",
        "colab": {
          "base_uri": "https://localhost:8080/",
          "height": 122
        },
        "outputId": "e41daeae-77d6-4921-ccd3-8714d2cf8e7d"
      },
      "cell_type": "code",
      "source": [
        "def precios(TARIFAS):\n",
        "  N = len(TARIFAS)\n",
        "  \n",
        "  PRECIOS = [ [9999]*N for i in [9999]*N ]\n",
        "  RUTA = [[\"\"]*N for i in [999999]*N ]\n",
        "  \n",
        "  for i in range(N-1):\n",
        "    for j in range(i+1, N):\n",
        "      MIN = TARIFAS[i][j]\n",
        "      RUTA[i][j] = i\n",
        "      \n",
        "      for k in range(i,j):\n",
        "        if PRECIOS[i][k] + TARIFAS[k][j] < MIN:\n",
        "          MIN = min(MIN, PRECIOS[i][k] + TARIFAS[k][j])\n",
        "          RUTA[i][j] = k \n",
        "          \n",
        "      PRECIOS[i][j] = MIN\n",
        "  return PRECIOS, RUTA\n",
        "\n",
        "  \n",
        "PRECIOS, RUTA = precios(TARIFAS)\n",
        "print(PRECIOS)\n",
        "print (RUTA)\n",
        "\n",
        "def calcular_ruta(RUTA, desde, hasta):\n",
        "  if desde == hasta:\n",
        "    #print(\"Ir a :\" + str(desde))\n",
        "    return desde \n",
        "  else:\n",
        "    return str(calcular_ruta(RUTA, desde, RUTA[desde][hasta])) +  ',' + str(RUTA[desde][hasta]) \n",
        "\n",
        "print(\"\\nLa ruta es:\")  \n",
        "calcular_ruta(RUTA, 0,6)"
      ],
      "execution_count": 49,
      "outputs": [
        {
          "output_type": "stream",
          "text": [
            "[[9999, 5, 4, 3, 8, 8, 11], [9999, 9999, 999, 2, 3, 8, 7], [9999, 9999, 9999, 1, 6, 4, 7], [9999, 9999, 9999, 9999, 5, 6, 9], [9999, 9999, 9999, 9999, 9999, 999, 4], [9999, 9999, 9999, 9999, 9999, 9999, 3], [9999, 9999, 9999, 9999, 9999, 9999, 9999]]\n",
            "[['', 0, 0, 0, 1, 2, 5], ['', '', 1, 1, 1, 3, 4], ['', '', '', 2, 3, 2, 5], ['', '', '', '', 3, 3, 3], ['', '', '', '', '', 4, 4], ['', '', '', '', '', '', 5], ['', '', '', '', '', '', '']]\n",
            "\n",
            "La ruta es:\n"
          ],
          "name": "stdout"
        },
        {
          "output_type": "execute_result",
          "data": {
            "text/plain": [
              "'0,0,2,5'"
            ]
          },
          "metadata": {
            "tags": []
          },
          "execution_count": 49
        }
      ]
    }
  ]
}